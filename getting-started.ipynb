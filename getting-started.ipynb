{
 "cells": [
  {
   "cell_type": "markdown",
   "metadata": {},
   "source": [
    "See [BenchmarkDotNet Getting Started](https://benchmarkdotnet.org/articles/guides/getting-started.html) for original documentation.\n",
    "\n",
    "### 1. Create a new console app\n",
    "\n",
    "Add a project `BenchmarkDotNet.Sample` so we can add a simple benchmark and check the results."
   ]
  },
  {
   "cell_type": "code",
   "execution_count": null,
   "metadata": {
    "dotnet_interactive": {
     "language": "pwsh"
    },
    "vscode": {
     "languageId": "dotnet-interactive.pwsh"
    }
   },
   "outputs": [],
   "source": [
    "dotnet new console --framework net6.0 -o BenchmarkDotNet.Sample"
   ]
  },
  {
   "cell_type": "markdown",
   "metadata": {},
   "source": [
    "### 2. Install BenchmarkDotNet"
   ]
  },
  {
   "cell_type": "code",
   "execution_count": null,
   "metadata": {
    "dotnet_interactive": {
     "language": "pwsh"
    },
    "vscode": {
     "languageId": "dotnet-interactive.pwsh"
    }
   },
   "outputs": [],
   "source": [
    "# Add nuget.org as a source in case it is not already present\n",
    "dotnet nuget add source https://api.nuget.org/v3/index.json -n nuget.org"
   ]
  },
  {
   "cell_type": "code",
   "execution_count": null,
   "metadata": {
    "dotnet_interactive": {
     "language": "pwsh"
    },
    "vscode": {
     "languageId": "dotnet-interactive.pwsh"
    }
   },
   "outputs": [],
   "source": [
    "# Install BenchmarkDotNet nuget package\n",
    "dotnet add ./BenchmarkDotNet.Sample/BenchmarkDotNet.Sample.csproj package BenchmarkDotNet"
   ]
  },
  {
   "cell_type": "markdown",
   "metadata": {},
   "source": [
    "### 3. Add a benchmark\n",
    "\n",
    "Add a class with methods decorated by `[Benchmark]`. See the example below in `Program.cs`.\n",
    "\n",
    "```c#\n",
    "using System;\n",
    "using System.Security.Cryptography;\n",
    "using BenchmarkDotNet.Attributes;\n",
    "using BenchmarkDotNet.Running;\n",
    "\n",
    "namespace MyBenchmarks\n",
    "{\n",
    "    public class Md5VsSha256\n",
    "    {\n",
    "        private const int N = 100;\n",
    "        private readonly byte[] data;\n",
    "\n",
    "        private readonly SHA256 sha256 = SHA256.Create();\n",
    "        private readonly MD5 md5 = MD5.Create();\n",
    "\n",
    "        public Md5VsSha256()\n",
    "        {\n",
    "            data = new byte[N];\n",
    "            new Random(42).NextBytes(data);\n",
    "        }\n",
    "\n",
    "        [Benchmark]\n",
    "        public byte[] Sha256() => sha256.ComputeHash(data);\n",
    "\n",
    "        [Benchmark]\n",
    "        public byte[] Md5() => md5.ComputeHash(data);\n",
    "    }\n",
    "\n",
    "    public class Program\n",
    "    {\n",
    "        public static void Main(string[] args)\n",
    "        {\n",
    "            var summary = BenchmarkRunner.Run<Md5VsSha256>();\n",
    "        }\n",
    "    }\n",
    "}\n",
    "```\n",
    "\n",
    "The `BenchmarkRunner.Run<Md5VsSha256>()` call runs your benchmarks and print results to console output.\n"
   ]
  },
  {
   "cell_type": "markdown",
   "metadata": {},
   "source": [
    "### 4. dotnet run and view results"
   ]
  },
  {
   "cell_type": "code",
   "execution_count": null,
   "metadata": {
    "dotnet_interactive": {
     "language": "pwsh"
    },
    "vscode": {
     "languageId": "dotnet-interactive.pwsh"
    }
   },
   "outputs": [],
   "source": [
    "dotnet run -c Release --project ./BenchmarkDotNet.Sample/BenchmarkDotNet.Sample.csproj"
   ]
  },
  {
   "cell_type": "markdown",
   "metadata": {},
   "source": [
    "Benchmarks will only run in a **Release** build. A `BenchmarkDotNet.Artifacts` directory will be created for the results after `dotnet run`. The summary like below will also be printed out.\n",
    "\n",
    "```bash\n",
    "// * Summary *\n",
    "\n",
    "BenchmarkDotNet=v0.13.1, OS=Windows 10.0.25179\n",
    "AMD Ryzen 7 6800HS with Radeon Graphics, 1 CPU, 16 logical and 8 physical cores\n",
    ".NET SDK=6.0.400\n",
    "  [Host]     : .NET 6.0.8 (6.0.822.36306), X64 RyuJIT\n",
    "  DefaultJob : .NET 6.0.8 (6.0.822.36306), X64 RyuJIT\n",
    "\n",
    "\n",
    "| Method |      Mean |     Error |    StdDev |\n",
    "|------- |----------:|----------:|----------:|\n",
    "| Sha256 |  6.536 us | 0.0048 us | 0.0045 us |\n",
    "|    Md5 | 21.449 us | 0.0166 us | 0.0147 us |\n",
    "\n",
    "// * Hints *\n",
    "Outliers\n",
    "  Md5VsSha256.Md5: Default -> 1 outlier  was  removed (21.60 us)\n",
    "\n",
    "// * Legends *\n",
    "  Mean   : Arithmetic mean of all measurements\n",
    "  Error  : Half of 99.9% confidence interval\n",
    "  StdDev : Standard deviation of all measurements\n",
    "  1 us   : 1 Microsecond (0.000001 sec)\n",
    "\n",
    "// ***** BenchmarkRunner: End *****\n",
    "// ** Remained 0 benchmark(s) to run **\n",
    "Run time: 00:00:44 (44.08 sec), executed benchmarks: 2\n",
    "\n",
    "Global total time: 00:00:48 (48.33 sec), executed benchmarks: 2\n",
    "// * Artifacts cleanup *\n",
    "```"
   ]
  }
 ],
 "metadata": {
  "kernelspec": {
   "display_name": ".NET (C#)",
   "language": "C#",
   "name": ".net-csharp"
  },
  "language_info": {
   "file_extension": ".cs",
   "mimetype": "text/x-csharp",
   "name": "C#",
   "pygments_lexer": "csharp",
   "version": "9.0"
  },
  "vscode": {
   "interpreter": {
    "hash": "d0d8625d2ff00876601edb3492024ac8b2a30123ede1cf8a08a538753ea77e8b"
   }
  }
 },
 "nbformat": 4,
 "nbformat_minor": 2
}
