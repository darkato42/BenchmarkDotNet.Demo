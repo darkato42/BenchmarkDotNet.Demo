{
 "cells": [
  {
   "cell_type": "markdown",
   "metadata": {
    "dotnet_interactive": {
     "language": "csharp"
    },
    "vscode": {
     "languageId": "dotnet-interactive.csharp"
    }
   },
   "source": [
    "# Post BenchmarkDotNet results"
   ]
  },
  {
   "cell_type": "markdown",
   "metadata": {},
   "source": [
    "- Add a new branch as a workspace\n",
    "- Append hostname and GitVersion details into the BenchmarkDotNet result JSON.\n",
    "- Post results overtime in a test branch to storage API\n",
    "- Fetch results from storage API"
   ]
  },
  {
   "cell_type": "markdown",
   "metadata": {},
   "source": [
    "## Run BenchmarkDotNet.Storage in Docker\n",
    "\n",
    "Source code is in this repo [BenchmarkDotNet.Storage](https://github.com/darkato42/BenchmarkDotNet.Storage/tree/main/BenchmarkDotNet.StorageInMemory). You can `git clone` and launch in IDE or start the Docker container version in a separate terminal."
   ]
  },
  {
   "cell_type": "code",
   "execution_count": null,
   "metadata": {
    "dotnet_interactive": {
     "language": "pwsh"
    },
    "vscode": {
     "languageId": "dotnet-interactive.pwsh"
    }
   },
   "outputs": [],
   "source": [
    "# Run this in a separate terminal\n",
    "# Execute in Notebook not recommended\n",
    "docker run -p 5252:80 darkato/benchmarkdotnet.storageinmemory:1.0"
   ]
  },
  {
   "cell_type": "code",
   "execution_count": null,
   "metadata": {
    "dotnet_interactive": {
     "language": "pwsh"
    },
    "vscode": {
     "languageId": "dotnet-interactive.pwsh"
    }
   },
   "outputs": [],
   "source": [
    "# Deploy in Azure Container Instance\n",
    "az container create -g Demo --name benchmarkdotnet-storage --image darkato/benchmarkdotnet.storageinmemory:1.0 --ip-address public --ports 80"
   ]
  },
  {
   "cell_type": "markdown",
   "metadata": {},
   "source": [
    "## Preparation"
   ]
  },
  {
   "cell_type": "code",
   "execution_count": null,
   "metadata": {
    "dotnet_interactive": {
     "language": "pwsh"
    },
    "vscode": {
     "languageId": "dotnet-interactive.pwsh"
    }
   },
   "outputs": [],
   "source": [
    "# Run git clone if you want to run BenchmarkDotNet in a separate repo\n",
    "# Otherwise, create a separate branch\n",
    "git fetch\n",
    "git checkout -b test/post-benchmarks"
   ]
  },
  {
   "cell_type": "code",
   "execution_count": null,
   "metadata": {
    "dotnet_interactive": {
     "language": "pwsh"
    },
    "vscode": {
     "languageId": "dotnet-interactive.pwsh"
    }
   },
   "outputs": [],
   "source": [
    "# Define function to post benchmarks\n",
    "function Post-Benchmarks {\n",
    "    # Define URL for posting benchmarks\n",
    "    $url = \"http://localhost:5252/bdnresults\"\n",
    "    \n",
    "    # Append hostname and gitversion details\n",
    "    $hostname = hostname\n",
    "    $gitversion = dotnet gitversion | ConvertFrom-Json\n",
    "\n",
    "    Get-ChildItem -Path ./BenchmarkDotNet.Artifacts/results -Filter *.json |\n",
    "    ForEach-Object {\n",
    "        $json = Get-Content $_.FullName | ConvertFrom-Json\n",
    "        $json.HostEnvironmentInfo | add-member -Force -Name \"Hostname\" -value $hostname -MemberType NoteProperty\n",
    "        $json | add-member -Force -Name \"GitVersion\" -value $gitversion -MemberType NoteProperty\n",
    "        $json | ConvertTo-Json -depth 32| set-content $_.FullName\n",
    "    }\n",
    "\n",
    "    # Post results to BenchmarkDotNet.Storage API\n",
    "    Get-ChildItem -Path ./BenchmarkDotNet.Artifacts/results -Filter *.json |\n",
    "    ForEach-Object {\n",
    "        $json = Get-Content $_.FullName\n",
    "        Invoke-WebRequest -Uri $url -Method POST -ContentType 'application/json' -Body $json\n",
    "    }\n",
    "}"
   ]
  },
  {
   "cell_type": "markdown",
   "metadata": {},
   "source": [
    "## Post 1st benchmark report\n",
    "\n",
    "We start with `public void Benchmark() => Thread.Sleep(A + B + 50);` in `Program.cs`. We will then make a few more commits to decrease sleep time until `Thread.Sleep(A + B)`."
   ]
  },
  {
   "cell_type": "code",
   "execution_count": null,
   "metadata": {
    "dotnet_interactive": {
     "language": "pwsh"
    },
    "vscode": {
     "languageId": "dotnet-interactive.pwsh"
    }
   },
   "outputs": [],
   "source": [
    "# Run BenchmarkDotNet\n",
    "dotnet run -c Release --project ./BenchmarkDotNet.Sample/BenchmarkDotNet.Sample.csproj"
   ]
  },
  {
   "cell_type": "code",
   "execution_count": null,
   "metadata": {
    "dotnet_interactive": {
     "language": "pwsh"
    },
    "vscode": {
     "languageId": "dotnet-interactive.pwsh"
    }
   },
   "outputs": [],
   "source": [
    "# View JSON before changes\n",
    "# cat ./BenchmarkDotNet.Artifacts/results/MyBenchmarks.ThreadSleep-report-brief.json\n",
    "\n",
    "Post-Benchmarks"
   ]
  },
  {
   "cell_type": "code",
   "execution_count": null,
   "metadata": {
    "dotnet_interactive": {
     "language": "pwsh"
    },
    "vscode": {
     "languageId": "dotnet-interactive.pwsh"
    }
   },
   "outputs": [],
   "source": [
    "# View JSON after changes\n",
    "# cat ./BenchmarkDotNet.Artifacts/results/MyBenchmarks.ThreadSleep-report-brief.json"
   ]
  },
  {
   "cell_type": "markdown",
   "metadata": {},
   "source": [
    "## Update / Rerun / Repost\n",
    "\n",
    "1. Manually update the `Program.cs` so test runtime gets less.\n",
    "1. Commit the changes so a new Git hash code is generated.\n",
    "1. Rerun benchmarks\n",
    "1. Post benchmarks JSON to our storage API."
   ]
  },
  {
   "cell_type": "code",
   "execution_count": null,
   "metadata": {
    "dotnet_interactive": {
     "language": "pwsh"
    },
    "vscode": {
     "languageId": "dotnet-interactive.pwsh"
    }
   },
   "outputs": [],
   "source": [
    "# Thread.Sleep(A + B + 40)\n",
    "(Get-Content -path ./BenchmarkDotNet.Sample/Program.cs -Raw) `\n",
    "-replace ([regex]::Escape('Thread.Sleep(A + B + 50)')), 'Thread.Sleep(A + B + 40)'\n",
    "| Set-Content -path ./BenchmarkDotNet.Sample/Program.cs\n",
    "\n",
    "git add -A && git commit -m \"Thread.Sleep(A + B + 40)\"\n",
    "dotnet run -c Release --project ./BenchmarkDotNet.Sample/BenchmarkDotNet.Sample.csproj\n",
    "Post-Benchmarks"
   ]
  },
  {
   "cell_type": "code",
   "execution_count": null,
   "metadata": {
    "dotnet_interactive": {
     "language": "pwsh"
    },
    "vscode": {
     "languageId": "dotnet-interactive.pwsh"
    }
   },
   "outputs": [],
   "source": [
    "# Thread.Sleep(A + B + 30)\n",
    "(Get-Content -path ./BenchmarkDotNet.Sample/Program.cs -Raw) `\n",
    "-replace ([regex]::Escape('Thread.Sleep(A + B + 40)')), 'Thread.Sleep(A + B + 30)'\n",
    "| Set-Content -path ./BenchmarkDotNet.Sample/Program.cs\n",
    "\n",
    "git add -A && git commit -m \"Thread.Sleep(A + B + 30)\"\n",
    "dotnet run -c Release --project ./BenchmarkDotNet.Sample/BenchmarkDotNet.Sample.csproj\n",
    "Post-Benchmarks"
   ]
  },
  {
   "cell_type": "code",
   "execution_count": null,
   "metadata": {
    "dotnet_interactive": {
     "language": "pwsh"
    },
    "vscode": {
     "languageId": "dotnet-interactive.pwsh"
    }
   },
   "outputs": [],
   "source": [
    "# Thread.Sleep(A + B + 20)\n",
    "(Get-Content -path ./BenchmarkDotNet.Sample/Program.cs -Raw) `\n",
    "-replace ([regex]::Escape('Thread.Sleep(A + B + 30)')), 'Thread.Sleep(A + B + 20)'\n",
    "| Set-Content -path ./BenchmarkDotNet.Sample/Program.cs\n",
    "\n",
    "git add -A && git commit -m \"Thread.Sleep(A + B + 20)\"\n",
    "dotnet run -c Release --project ./BenchmarkDotNet.Sample/BenchmarkDotNet.Sample.csproj\n",
    "Post-Benchmarks"
   ]
  },
  {
   "cell_type": "code",
   "execution_count": null,
   "metadata": {
    "dotnet_interactive": {
     "language": "pwsh"
    },
    "vscode": {
     "languageId": "dotnet-interactive.pwsh"
    }
   },
   "outputs": [],
   "source": [
    "# Thread.Sleep(A + B + 10)\n",
    "(Get-Content -path ./BenchmarkDotNet.Sample/Program.cs -Raw) `\n",
    "-replace ([regex]::Escape('Thread.Sleep(A + B + 20)')), 'Thread.Sleep(A + B + 10)'\n",
    "| Set-Content -path ./BenchmarkDotNet.Sample/Program.cs\n",
    "\n",
    "git add -A && git commit -m \"Thread.Sleep(A + B + 10)\"\n",
    "dotnet run -c Release --project ./BenchmarkDotNet.Sample/BenchmarkDotNet.Sample.csproj\n",
    "Post-Benchmarks"
   ]
  },
  {
   "cell_type": "code",
   "execution_count": null,
   "metadata": {
    "dotnet_interactive": {
     "language": "pwsh"
    },
    "vscode": {
     "languageId": "dotnet-interactive.pwsh"
    }
   },
   "outputs": [],
   "source": [
    "# Thread.Sleep(A + B)\n",
    "(Get-Content -path ./BenchmarkDotNet.Sample/Program.cs -Raw) `\n",
    "-replace ([regex]::Escape('Thread.Sleep(A + B + 10)')), 'Thread.Sleep(A + B)'\n",
    "| Set-Content -path ./BenchmarkDotNet.Sample/Program.cs\n",
    "\n",
    "git add -A && git commit -m \"Thread.Sleep(A + B)\"\n",
    "dotnet run -c Release --project ./BenchmarkDotNet.Sample/BenchmarkDotNet.Sample.csproj\n",
    "Post-Benchmarks"
   ]
  }
 ],
 "metadata": {
  "kernelspec": {
   "display_name": ".NET (C#)",
   "language": "C#",
   "name": ".net-csharp"
  },
  "language_info": {
   "name": "C#"
  }
 },
 "nbformat": 4,
 "nbformat_minor": 2
}
